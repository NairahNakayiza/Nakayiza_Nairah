{
 "cells": [
  {
   "cell_type": "code",
   "execution_count": null,
   "id": "076603af",
   "metadata": {},
   "outputs": [],
   "source": [
    "import pandas as pd\n",
    "import matplotlib.pyplot as plt\n",
    "from sklearn.cluster import KMeans\n",
    "import seaborn as sns\n"
   ]
  },
  {
   "cell_type": "code",
   "execution_count": null,
   "id": "3ef103d4",
   "metadata": {},
   "outputs": [],
   "source": [
    "df = pd.read_csv('customer_data_records.csv')\n",
    "print(df.head())"
   ]
  },
  {
   "cell_type": "code",
   "execution_count": null,
   "id": "39513bbc",
   "metadata": {},
   "outputs": [],
   "source": [
    "features = ['Annual Income (k$)', 'Spending Score (1-100)']  \n",
    "X = df[features]"
   ]
  },
  {
   "cell_type": "code",
   "execution_count": null,
   "id": "a28a7bda",
   "metadata": {},
   "outputs": [],
   "source": [
    "kmeans = KMeans(n_clusters=3, random_state=42, n_init=10)\n",
    "df['Cluster'] = kmeans.fit(X)"
   ]
  },
  {
   "cell_type": "code",
   "execution_count": null,
   "id": "f944528a",
   "metadata": {},
   "outputs": [],
   "source": [
    "df['cluster']=kmeans.labels_\n",
    "df"
   ]
  },
  {
   "cell_type": "code",
   "execution_count": null,
   "id": "7f38dd18",
   "metadata": {},
   "outputs": [],
   "source": [
    "plt.figure(figsize=(8, 6))\n",
    "scatter = plt.scatter(df['Annual Income (k$)'], df['Spending Score (1-100)'],\n",
    "                      c=df['Cluster'], cmap='viridis')\n",
    "plt.xlabel('Annual Income (k$)')\n",
    "plt.ylabel('Spending Score (1-100)')\n",
    "plt.title(\"Customer Segments Clustering\")\n",
    "plt.colorbar(scatter, label='Cluster')\n",
    "plt.show()"
   ]
  }
 ],
 "metadata": {
  "language_info": {
   "name": "python"
  }
 },
 "nbformat": 4,
 "nbformat_minor": 5
}
